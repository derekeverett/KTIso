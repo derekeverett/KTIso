{
 "cells": [
  {
   "cell_type": "code",
   "execution_count": 1,
   "id": "fresh-indie",
   "metadata": {},
   "outputs": [],
   "source": [
    "import sympy as spy\n",
    "import numpy as np\n",
    "import matplotlib.pyplot as plt\n",
    "import seaborn as sns\n",
    "from ipywidgets import interact, FloatSlider\n",
    "import math"
   ]
  },
  {
   "cell_type": "code",
   "execution_count": 2,
   "id": "existing-stocks",
   "metadata": {},
   "outputs": [],
   "source": [
    "x, M, m, s = spy.symbols('x M m s')\n",
    "M= m*spy.sqrt(2)\n",
    "pdf = spy.exp(-1*(x**2+M**2)/(2*s**2)) * spy.besseli(0,x*M/(s**2)) * (x/(s**2))"
   ]
  },
  {
   "cell_type": "code",
   "execution_count": 3,
   "id": "textile-longer",
   "metadata": {},
   "outputs": [
    {
     "data": {
      "text/latex": [
       "$\\displaystyle \\frac{x e^{- \\frac{2 m^{2} + x^{2}}{2 s^{2}}} I_{0}\\left(\\frac{\\sqrt{2} m x}{s^{2}}\\right)}{s^{2}}$"
      ],
      "text/plain": [
       "x*exp(-(2*m**2 + x**2)/(2*s**2))*besseli(0, sqrt(2)*m*x/s**2)/s**2"
      ]
     },
     "execution_count": 3,
     "metadata": {},
     "output_type": "execute_result"
    }
   ],
   "source": [
    "spy.simplify(pdf)"
   ]
  },
  {
   "cell_type": "code",
   "execution_count": 4,
   "id": "surgical-conservation",
   "metadata": {},
   "outputs": [],
   "source": [
    "cum_pdf = spy.Integral(pdf,x)"
   ]
  },
  {
   "cell_type": "code",
   "execution_count": 5,
   "id": "familiar-queue",
   "metadata": {},
   "outputs": [
    {
     "data": {
      "text/latex": [
       "$\\displaystyle \\int \\frac{x e^{\\frac{- 2 m^{2} - x^{2}}{2 s^{2}}} I_{0}\\left(\\frac{\\sqrt{2} m x}{s^{2}}\\right)}{s^{2}}\\, dx$"
      ],
      "text/plain": [
       "Integral(x*exp((-2*m**2 - x**2)/(2*s**2))*besseli(0, sqrt(2)*m*x/s**2)/s**2, x)"
      ]
     },
     "execution_count": 5,
     "metadata": {},
     "output_type": "execute_result"
    }
   ],
   "source": [
    "cum_pdf"
   ]
  },
  {
   "cell_type": "code",
   "execution_count": 6,
   "id": "secure-toner",
   "metadata": {},
   "outputs": [],
   "source": [
    "def bg(x,m,s):\n",
    "    M= m * math.sqrt(2)\n",
    "    p = spy.exp(-1*(x**2+M**2)/(2*s**2)) * spy.besseli(0,x*M/(s**2)) * (x/(s**2))\n",
    "    return p"
   ]
  },
  {
   "cell_type": "code",
   "execution_count": 7,
   "id": "demonstrated-concept",
   "metadata": {},
   "outputs": [
    {
     "data": {
      "text/latex": [
       "$\\displaystyle 0.22313016014843 I_{0}\\left(1.4142135623731\\right)$"
      ],
      "text/plain": [
       "0.22313016014843*besseli(0, 1.4142135623731)"
      ]
     },
     "execution_count": 7,
     "metadata": {},
     "output_type": "execute_result"
    }
   ],
   "source": [
    "bg(1,1,1)"
   ]
  },
  {
   "cell_type": "code",
   "execution_count": 21,
   "id": "social-share",
   "metadata": {},
   "outputs": [],
   "source": [
    "from scipy.integrate import quad\n"
   ]
  },
  {
   "cell_type": "code",
   "execution_count": 32,
   "id": "military-clause",
   "metadata": {},
   "outputs": [
    {
     "data": {
      "application/vnd.jupyter.widget-view+json": {
       "model_id": "2f5be864f32d4e3a8e046987b337c5d5",
       "version_major": 2,
       "version_minor": 0
      },
      "text/plain": [
       "interactive(children=(FloatSlider(value=0.2, description='mi', max=1.0, min=0.0001, step=0.0001), FloatSlider(…"
      ]
     },
     "metadata": {},
     "output_type": "display_data"
    }
   ],
   "source": [
    "m_slider = FloatSlider(value= 0.2, min=0.0001, max=1.0, step=0.0001)\n",
    "s_slider = FloatSlider(value= 1e-1, min=0.00000001, max=1.0, step=0.00000001)\n",
    "\n",
    "\n",
    "@interact(mi=m_slider, si=s_slider)\n",
    "def plot(mi,si):\n",
    "    fig, ax = plt.subplots(1,1)\n",
    "    xx= np.linspace(0,1,100)\n",
    "    p = []\n",
    "    for i in xx:\n",
    "        #print(pdf)\n",
    "        p_temp = pdf.evalf(subs={x:i, m:mi, s:si})\n",
    "        #print(p_temp)\n",
    "        p.append(p_temp)\n",
    "    #print(p)\n",
    "    #integration = spy.integrate(pdf,(m,mi),(s,si),(x,0.5, math.inf))\n",
    "    integration = quad(bg,0.5,math.inf,args=(mi, si))\n",
    "    print(f'Percentage cumulative probability above 0.5: {100*integration[0]:.3f}%')\n",
    "    ax.plot(xx, np.array(p))\n",
    "    ax.axvline(0.5, color='r')\n",
    "    ax.set_ylim(bottom=0)\n",
    "    "
   ]
  },
  {
   "cell_type": "markdown",
   "id": "impossible-cathedral",
   "metadata": {},
   "source": [
    "## Let's take bounds for \n",
    "#### m = (0,0.1)\n",
    "####  s = (0,0.2)\n"
   ]
  },
  {
   "cell_type": "code",
   "execution_count": 33,
   "id": "ancient-toronto",
   "metadata": {},
   "outputs": [],
   "source": [
    "# m_slider = FloatSlider(min=0.0001, max=1.0, step=0.0001)\n",
    "# s_slider = FloatSlider(min=0.00000001, max=1.0, step=0.00000001)\n",
    "\n",
    "\n",
    "# @interact(mi=m_slider, si=s_slider)\n",
    "# def plot(mi,si):\n",
    "#     fig, ax = plt.subplots()\n",
    "#     x= np.linspace(0,1,50)\n",
    "#     p = []\n",
    "#     for i in x:\n",
    "#         #print(pdf)\n",
    "#         p_temp = bg(i,mi,si)\n",
    "#         #print(p_temp)\n",
    "#         p.append(p_temp)\n",
    "#     #print(p)\n",
    "#     ax.plot(x, p)\n",
    "#     ax.set_ylim(bottom=0)\n",
    "    "
   ]
  },
  {
   "cell_type": "code",
   "execution_count": null,
   "id": "breathing-efficiency",
   "metadata": {},
   "outputs": [],
   "source": []
  }
 ],
 "metadata": {
  "kernelspec": {
   "display_name": "Python 3",
   "language": "python",
   "name": "python3"
  },
  "language_info": {
   "codemirror_mode": {
    "name": "ipython",
    "version": 3
   },
   "file_extension": ".py",
   "mimetype": "text/x-python",
   "name": "python",
   "nbconvert_exporter": "python",
   "pygments_lexer": "ipython3",
   "version": "3.6.13"
  }
 },
 "nbformat": 4,
 "nbformat_minor": 5
}
